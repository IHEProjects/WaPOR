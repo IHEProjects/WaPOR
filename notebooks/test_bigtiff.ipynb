{
 "cells": [
  {
   "cell_type": "markdown",
   "metadata": {},
   "source": [
    "# BigTIFF\n",
    "\n",
    "* [tiff format](http://www.fileformat.info/format/tiff/corion.htm)\n",
    "* [bigtiff, awaresystems](https://www.awaresystems.be/imaging/tiff/bigtiff.html)\n",
    "* [bigtiff, org](http://bigtiff.org/)\n",
    "* [GDAL, frmts, gtiff](https://gdal.org/drivers/raster/gtiff.html)"
   ]
  },
  {
   "cell_type": "code",
   "execution_count": 1,
   "metadata": {},
   "outputs": [
    {
     "name": "stdout",
     "output_type": "stream",
     "text": [
      "BigTIFFLong8.tif\t       BigTIFFMotorola.tif  BigTIFF.tif\r\n",
      "BigTIFFLong8Tiles.tif\t       BigTIFFSamples.html  Classic-test.tif\r\n",
      "BigTIFFLong.tif\t\t       BigTIFFSubIFD4.tif   Classic.tif\r\n",
      "BigTIFFMotorolaLongStrips.tif  BigTIFFSubIFD8.tif   test.tif\r\n"
     ]
    }
   ],
   "source": [
    "!dir ../tests/data/BigTIFF"
   ]
  },
  {
   "cell_type": "code",
   "execution_count": 2,
   "metadata": {},
   "outputs": [],
   "source": [
    "ctif = \"../tests/data/BigTIFF/Classic.tif\"\n",
    "btif = \"../tests/data/BigTIFF/BigTIFF.tif\""
   ]
  },
  {
   "cell_type": "markdown",
   "metadata": {},
   "source": [
    "# Binary"
   ]
  },
  {
   "cell_type": "code",
   "execution_count": 3,
   "metadata": {},
   "outputs": [
    {
     "name": "stdout",
     "output_type": "stream",
     "text": [
      "000000 \t ctif: II \t btif: II\n",
      "000002 \t ctif: 42 \t btif: 43\n",
      "000004 \t ctif: 12302 \t btif: 8\n",
      "000006 \t ctif: 0 \t btif: 0\n",
      "000008 \t ctif: 255 \t btif: 12304\n",
      "000010 \t ctif: 65280 \t btif: 0\n",
      "000012 \t ctif: 0 \t btif: 0\n",
      "000014 \t ctif: 255 \t btif: 0\n",
      "000016 \t ctif: 65280 \t btif: 255\n",
      "000018 \t ctif: 0 \t btif: 65280\n",
      "000020 \t ctif: 255 \t btif: 0\n",
      "000022 \t ctif: 65280 \t btif: 255\n",
      "000024 \t ctif: 0 \t btif: 65280\n",
      "000026 \t ctif: 255 \t btif: 0\n",
      "000028 \t ctif: 65280 \t btif: 255\n",
      "000030 \t ctif: 0 \t btif: 65280\n",
      "000032 \t ctif: 255 \t btif: 0\n",
      "000034 \t ctif: 65280 \t btif: 255\n",
      "000036 \t ctif: 0 \t btif: 65280\n",
      "000038 \t ctif: 255 \t btif: 0\n",
      "000040 \t ctif: 65280 \t btif: 255\n",
      "000042 \t ctif: 0 \t btif: 65280\n"
     ]
    }
   ],
   "source": [
    "import struct\n",
    "\n",
    "with open(ctif, \"rb\") as cf, open(btif, \"rb\") as bf:\n",
    "    ibyte = 2\n",
    "    ioffset = 0\n",
    "\n",
    "    # cf.seek(ibyte, ioffset)\n",
    "    # ioffset = ioffset + ibyte\n",
    "    # \n",
    "    # cbyte = cf.read(ibyte)\n",
    "\n",
    "    i = 0\n",
    "    cbyte = cf.read(ibyte)\n",
    "    bbyte = bf.read(ibyte)\n",
    "    cbyteorder = cbyte.decode('utf-8')\n",
    "    bbyteorder = bbyte.decode('utf-8')\n",
    "    print(\"%06d\" % (i * ibyte),\n",
    "          \"\\t\", \"ctif:\", cbyteorder,\n",
    "          \"\\t\", \"btif:\", bbyteorder\n",
    "         )\n",
    "    \n",
    "    if cbyte.decode('utf-8')==\"II\" and bbyte.decode('utf-8')==\"II\":\n",
    "        byteorder = \"little\"\n",
    "        signed = False\n",
    "    \n",
    "    i += 1\n",
    "    # Do stuff with byte.\n",
    "    cbyte = cf.read(ibyte)\n",
    "    bbyte = bf.read(ibyte)\n",
    "    print(\"%06d\" % (i * ibyte),\n",
    "          \"\\t\", \"ctif:\", int.from_bytes(cbyte, byteorder=byteorder, signed=signed),\n",
    "          \"\\t\", \"btif:\", int.from_bytes(bbyte, byteorder=byteorder, signed=signed)\n",
    "         )\n",
    "    \n",
    "    # while cbyte != b\"\" or bbyte != b\"\":\n",
    "    for j in range(20):\n",
    "        i += 1\n",
    "        # Do stuff with byte.\n",
    "        cbyte = cf.read(ibyte)\n",
    "        bbyte = bf.read(ibyte)\n",
    "        print(\"%06d\" % (i * ibyte),\n",
    "              \"\\t\", \"ctif:\", int.from_bytes(cbyte, byteorder=byteorder, signed=signed),\n",
    "              \"\\t\", \"btif:\", int.from_bytes(bbyte, byteorder=byteorder, signed=signed)\n",
    "             )"
   ]
  },
  {
   "cell_type": "markdown",
   "metadata": {},
   "source": [
    "# GDAL"
   ]
  },
  {
   "cell_type": "code",
   "execution_count": 4,
   "metadata": {},
   "outputs": [
    {
     "name": "stdout",
     "output_type": "stream",
     "text": [
      "GDAL 3.1.0dev-3993eb2c54e66ffb5158eaa1ffd77dec8b98cadd, released 2019/09/13\n",
      "=====\n",
      "Driver: GTiff/GeoTIFF\n",
      "Files: ../tests/data/BigTIFF/BigTIFF.tif\n",
      "Size is 64, 64\n",
      "Image Structure Metadata:\n",
      "  INTERLEAVE=PIXEL\n",
      "Corner Coordinates:\n",
      "Upper Left  (    0.0,    0.0)\n",
      "Lower Left  (    0.0,   64.0)\n",
      "Upper Right (   64.0,    0.0)\n",
      "Lower Right (   64.0,   64.0)\n",
      "Center      (   32.0,   32.0)\n",
      "Band 1 Block=64x42 Type=Byte, ColorInterp=Red\n",
      "    Computed Min/Max=0.000,255.000\n",
      "Band 2 Block=64x42 Type=Byte, ColorInterp=Green\n",
      "    Computed Min/Max=0.000,255.000\n",
      "Band 3 Block=64x42 Type=Byte, ColorInterp=Blue\n",
      "    Computed Min/Max=0.000,255.000\n"
     ]
    }
   ],
   "source": [
    "!gdalinfo --version\n",
    "!echo \"=====\"\n",
    "!gdalinfo -mm {btif}"
   ]
  },
  {
   "cell_type": "code",
   "execution_count": 5,
   "metadata": {},
   "outputs": [
    {
     "name": "stdout",
     "output_type": "stream",
     "text": [
      "<osgeo.gdal.Dataset; proxy of <Swig Object of type 'GDALDatasetShadow *' at 0x7f30c430af60> >\n",
      "../tests/data/BigTIFF/BigTIFF.tif\n",
      "{}\n",
      "{}\n",
      "[[255 255 255 ...,   0   0   0]\n",
      " [255 255 255 ...,   0   0   0]\n",
      " [255 255 255 ...,   0   0   0]\n",
      " ..., \n",
      " [  0   0   0 ...,   0   0   0]\n",
      " [  0   0   0 ...,   0   0   0]\n",
      " [  0   0   0 ...,   0   0   0]]\n"
     ]
    }
   ],
   "source": [
    "try:\n",
    "    from osgeo import gdal, osr, gdalconst\n",
    "except ImportError:\n",
    "    import gdal\n",
    "    import osr\n",
    "    import gdalconst\n",
    "\n",
    "    # this allows GDAL to throw Python Exceptions\n",
    "gdal.UseExceptions()\n",
    "\n",
    "#  get raster datasource\n",
    "src_ds = gdal.Open(btif, gdalconst.GA_ReadOnly)\n",
    "print(src_ds)\n",
    "\n",
    "# Description lost\n",
    "print(src_ds.GetDescription())\n",
    "\n",
    "# Metadata\n",
    "print(src_ds.GetMetadata())\n",
    "\n",
    "# Metadata band\n",
    "print(src_ds.GetRasterBand(1).GetMetadata())\n",
    "print(src_ds.GetRasterBand(1).ReadAsArray())"
   ]
  },
  {
   "cell_type": "markdown",
   "metadata": {},
   "source": [
    "# rasterio"
   ]
  },
  {
   "cell_type": "code",
   "execution_count": 6,
   "metadata": {},
   "outputs": [
    {
     "name": "stdout",
     "output_type": "stream",
     "text": [
      "../tests/data/BigTIFF/BigTIFF.tif\n",
      "3\n",
      "BoundingBox(left=0.0, bottom=64.0, right=64.0, top=0.0)\n",
      "| 1.00, 0.00, 0.00|\n",
      "| 0.00, 1.00, 0.00|\n",
      "| 0.00, 0.00, 1.00|\n",
      "None\n",
      "{1: 'uint8', 2: 'uint8', 3: 'uint8'}\n",
      "[[255 255 255 ..., 255 255 255]\n",
      " [255 255 255 ..., 255 255 255]\n",
      " [255 255 255 ..., 255 255 255]\n",
      " ..., \n",
      " [255 255 255 ..., 255 255 255]\n",
      " [255 255 255 ..., 255 255 255]\n",
      " [255 255 255 ..., 255 255 255]]\n",
      "[[255 255 255 ...,   0   0   0]\n",
      " [255 255 255 ...,   0   0   0]\n",
      " [255 255 255 ...,   0   0   0]\n",
      " ..., \n",
      " [  0   0   0 ...,   0   0   0]\n",
      " [  0   0   0 ...,   0   0   0]\n",
      " [  0   0   0 ...,   0   0   0]]\n"
     ]
    },
    {
     "name": "stderr",
     "output_type": "stream",
     "text": [
      "/usr/local/lib/python3.6/dist-packages/rasterio/__init__.py:216: NotGeoreferencedWarning: Dataset has no geotransform set. The identity matrix may be returned.\n",
      "  s = DatasetReader(path, driver=driver, sharing=sharing, **kwargs)\n"
     ]
    }
   ],
   "source": [
    "import rasterio\n",
    "import rasterio.features\n",
    "import rasterio.warp\n",
    "\n",
    "with rasterio.open(btif) as dataset:\n",
    "    print(dataset.name)\n",
    "    print(dataset.count)\n",
    "    print(dataset.bounds)\n",
    "    print(dataset.transform)\n",
    "    print(dataset.crs)\n",
    "    \n",
    "    print({i: dtype for i, dtype in zip(dataset.indexes, dataset.dtypes)})\n",
    "    \n",
    "    print(dataset.dataset_mask())\n",
    "    print(dataset.read(1))"
   ]
  },
  {
   "cell_type": "markdown",
   "metadata": {},
   "source": [
    "# xarray"
   ]
  },
  {
   "cell_type": "code",
   "execution_count": 7,
   "metadata": {},
   "outputs": [
    {
     "name": "stdout",
     "output_type": "stream",
     "text": [
      "OrderedDict([('transform', (1.0, 0.0, 0.0, 0.0, 1.0, 0.0)), ('res', (1.0, -1.0)), ('is_tiled', 0), ('nodatavals', (nan, nan, nan)), ('scales', (1.0, 1.0, 1.0)), ('offsets', (0.0, 0.0, 0.0))])\n",
      "('band', 'y', 'x')\n",
      "Coordinates:\n",
      "  * band     (band) int64 1 2 3\n",
      "  * y        (y) float64 0.5 1.5 2.5 3.5 4.5 5.5 ... 59.5 60.5 61.5 62.5 63.5\n",
      "  * x        (x) float64 0.5 1.5 2.5 3.5 4.5 5.5 ... 59.5 60.5 61.5 62.5 63.5\n",
      "[[255 255 255 ...,   0   0   0]\n",
      " [255 255 255 ...,   0   0   0]\n",
      " [255 255 255 ...,   0   0   0]\n",
      " ..., \n",
      " [  0   0   0 ...,   0   0   0]\n",
      " [  0   0   0 ...,   0   0   0]\n",
      " [  0   0   0 ...,   0   0   0]]\n"
     ]
    },
    {
     "name": "stderr",
     "output_type": "stream",
     "text": [
      "/usr/local/lib/python3.6/dist-packages/rasterio/__init__.py:216: NotGeoreferencedWarning: Dataset has no geotransform set. The identity matrix may be returned.\n",
      "  s = DatasetReader(path, driver=driver, sharing=sharing, **kwargs)\n"
     ]
    }
   ],
   "source": [
    "import xarray as xr\n",
    "\n",
    "with xr.open_rasterio(btif) as dataset:\n",
    "    print(dataset.attrs)\n",
    "    print(dataset.dims)\n",
    "    print(dataset.coords)\n",
    "    \n",
    "    print(dataset.values[0])"
   ]
  },
  {
   "cell_type": "code",
   "execution_count": null,
   "metadata": {},
   "outputs": [],
   "source": []
  }
 ],
 "metadata": {
  "kernelspec": {
   "display_name": "Python 3",
   "language": "python",
   "name": "python3"
  },
  "language_info": {
   "codemirror_mode": {
    "name": "ipython",
    "version": 3
   },
   "file_extension": ".py",
   "mimetype": "text/x-python",
   "name": "python",
   "nbconvert_exporter": "python",
   "pygments_lexer": "ipython3",
   "version": "3.6.8"
  }
 },
 "nbformat": 4,
 "nbformat_minor": 2
}
