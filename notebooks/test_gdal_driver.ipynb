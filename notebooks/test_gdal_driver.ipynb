{
 "cells": [
  {
   "cell_type": "markdown",
   "metadata": {},
   "source": [
    "# GDAL Test\n",
    "\n",
    "[GDAL python API](https://gdal.org/python/)\n",
    "\n",
    "**osgeo.gdal.Driver**"
   ]
  },
  {
   "cell_type": "code",
   "execution_count": 1,
   "metadata": {},
   "outputs": [],
   "source": [
    "try:\n",
    "    from osgeo import gdal, osr, gdalconst\n",
    "except ImportError:\n",
    "    import gdal\n",
    "    import osr\n",
    "    import gdalconst"
   ]
  },
  {
   "cell_type": "markdown",
   "metadata": {},
   "source": [
    "## List GDAL Driver Description"
   ]
  },
  {
   "cell_type": "markdown",
   "metadata": {},
   "source": [
    "### Method 1"
   ]
  },
  {
   "cell_type": "code",
   "execution_count": 2,
   "metadata": {},
   "outputs": [
    {
     "data": {
      "text/plain": [
       "'AIG'"
      ]
     },
     "execution_count": 2,
     "metadata": {},
     "output_type": "execute_result"
    }
   ],
   "source": [
    "driver_desc_m1 = []\n",
    "\n",
    "for i in range(gdal.GetDriverCount()):\n",
    "    driver = gdal.GetDriver(i)\n",
    "    driver_desc_m1.append(driver.GetDescription())\n",
    "    # print(driver)\n",
    "\n",
    "driver_desc_m1.sort()\n",
    "\n",
    "driver_desc_m1[3]"
   ]
  },
  {
   "cell_type": "markdown",
   "metadata": {},
   "source": [
    "### Method 2"
   ]
  },
  {
   "cell_type": "code",
   "execution_count": 3,
   "metadata": {},
   "outputs": [
    {
     "data": {
      "text/plain": [
       "'AIG'"
      ]
     },
     "execution_count": 3,
     "metadata": {},
     "output_type": "execute_result"
    }
   ],
   "source": [
    "driver_desc_m2 = [gdal.GetDriver(i).GetDescription() for i in range(gdal.GetDriverCount())]\n",
    "\n",
    "driver_desc_m2.sort()\n",
    "\n",
    "driver_desc_m2[3]"
   ]
  },
  {
   "cell_type": "markdown",
   "metadata": {},
   "source": [
    "### Method 3"
   ]
  },
  {
   "cell_type": "code",
   "execution_count": 4,
   "metadata": {},
   "outputs": [
    {
     "data": {
      "text/plain": [
       "'AIG'"
      ]
     },
     "execution_count": 4,
     "metadata": {},
     "output_type": "execute_result"
    }
   ],
   "source": [
    "driver_desc_m3 = [gdal.GetDriver(i).ShortName for i in range(gdal.GetDriverCount())]\n",
    "\n",
    "driver_desc_m3.sort()\n",
    "\n",
    "driver_desc_m3[3]"
   ]
  },
  {
   "cell_type": "markdown",
   "metadata": {},
   "source": [
    "### Method 4"
   ]
  },
  {
   "cell_type": "code",
   "execution_count": 5,
   "metadata": {},
   "outputs": [
    {
     "data": {
      "text/plain": [
       "'Arc/Info Binary Coverage'"
      ]
     },
     "execution_count": 5,
     "metadata": {},
     "output_type": "execute_result"
    }
   ],
   "source": [
    "driver_desc_m4 = [gdal.GetDriver(i).LongName for i in range(gdal.GetDriverCount())]\n",
    "\n",
    "driver_desc_m4.sort()\n",
    "\n",
    "driver_desc_m4[8]"
   ]
  },
  {
   "cell_type": "markdown",
   "metadata": {},
   "source": [
    "## List GDAL Driver Metadata"
   ]
  },
  {
   "cell_type": "code",
   "execution_count": 6,
   "metadata": {},
   "outputs": [
    {
     "name": "stdout",
     "output_type": "stream",
     "text": [
      "Default:\n",
      " ('AIG', {'DCAP_OPEN': 'YES', 'DCAP_RASTER': 'YES', 'DCAP_VIRTUALIO': 'YES', 'DMD_HELPTOPIC': 'frmt_various.html#AIG', 'DMD_LONGNAME': 'Arc/Info Binary Grid'})\n",
      "Dict   :\n",
      " ('AIG', {'DCAP_OPEN': 'YES', 'DCAP_RASTER': 'YES', 'DCAP_VIRTUALIO': 'YES', 'DMD_HELPTOPIC': 'frmt_various.html#AIG', 'DMD_LONGNAME': 'Arc/Info Binary Grid'})\n",
      "List   :\n",
      " ('AIG', ['DCAP_OPEN=YES', 'DCAP_RASTER=YES', 'DCAP_VIRTUALIO=YES', 'DMD_HELPTOPIC=frmt_various.html#AIG', 'DMD_LONGNAME=Arc/Info Binary Grid'])\n"
     ]
    }
   ],
   "source": [
    "driver_meta = {}\n",
    "driver_meta_dict = {}\n",
    "driver_meta_list = {}\n",
    "\n",
    "for i in range(gdal.GetDriverCount()):\n",
    "    driver = gdal.GetDriver(i)\n",
    "    driver_meta[driver.ShortName] = driver.GetMetadata()\n",
    "    driver_meta_dict[driver.ShortName] = driver.GetMetadata_Dict()\n",
    "    driver_meta_list[driver.ShortName] = driver.GetMetadata_List()\n",
    "    # print(driver)\n",
    "\n",
    "print('Default:\\n', sorted(driver_meta.items())[3])\n",
    "print('Dict   :\\n', sorted(driver_meta_dict.items())[3])\n",
    "print('List   :\\n', sorted(driver_meta_list.items())[3])"
   ]
  },
  {
   "cell_type": "code",
   "execution_count": null,
   "metadata": {},
   "outputs": [],
   "source": []
  }
 ],
 "metadata": {
  "kernelspec": {
   "display_name": "Python 3",
   "language": "python",
   "name": "python3"
  },
  "language_info": {
   "codemirror_mode": {
    "name": "ipython",
    "version": 3
   },
   "file_extension": ".py",
   "mimetype": "text/x-python",
   "name": "python",
   "nbconvert_exporter": "python",
   "pygments_lexer": "ipython3",
   "version": "3.6.8"
  }
 },
 "nbformat": 4,
 "nbformat_minor": 2
}
