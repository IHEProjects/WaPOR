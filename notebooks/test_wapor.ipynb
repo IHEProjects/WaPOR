{
 "cells": [
  {
   "cell_type": "markdown",
   "metadata": {},
   "source": [
    "# Examples of WaporAPI module functions"
   ]
  },
  {
   "cell_type": "markdown",
   "metadata": {},
   "source": [
    "## 0. Change working directory to \"wapor/src\""
   ]
  },
  {
   "cell_type": "code",
   "execution_count": 1,
   "metadata": {},
   "outputs": [
    {
     "name": "stdout",
     "output_type": "stream",
     "text": [
      "p_from\n",
      "   .ipynb_checkpoints\n",
      "   test_bigtiff.ipynb\n",
      "   test_gdal_driver.ipynb\n",
      "   test_wapor.ipynb\n",
      "p_root\n",
      "   .coverage\n",
      "   .coveragerc\n",
      "   .eggs\n",
      "   .git\n",
      "   .gitignore\n",
      "   .isort.cfg\n",
      "   .pre-commit-config.yaml\n",
      "   .pytest_cache\n",
      "   .readthedocs.yml\n",
      "   .travis.yml\n",
      "   .vscode\n",
      "   AUTHORS.rst\n",
      "   build\n",
      "   CHANGELOG.rst\n",
      "   config.yml\n",
      "   CONTRIBUTING.rst\n",
      "   Docker\n",
      "   Dockerfile\n",
      "   docs\n",
      "   examples\n",
      "   LICENSE.rst\n",
      "   notebooks\n",
      "   PyCharm.jar\n",
      "   README.md\n",
      "   README.rst\n",
      "   requirements-dev.txt\n",
      "   requirements.txt\n",
      "   setup.cfg\n",
      "   setup.py\n",
      "   src\n",
      "   tests\n",
      "   tox.ini\n",
      "From \"/notebooks/notebooks\" to \"/notebooks/notebooks/../src\"\n",
      "   wapor\n",
      "   WaPOR.egg-info\n"
     ]
    }
   ],
   "source": [
    "import os\n",
    "import glob\n",
    "\n",
    "p_from = os.getcwd()\n",
    "print('p_from')\n",
    "for file in os.listdir(p_from):\n",
    "    print('  ', file)\n",
    "\n",
    "p_root = os.path.join(os.getcwd(), '../')\n",
    "print('p_root')\n",
    "for file in os.listdir(p_root):\n",
    "    print('  ', file)\n",
    "\n",
    "p_wapor = os.path.join(p_root, 'src')\n",
    "p_tests = os.path.join(p_root, 'tests')\n",
    "\n",
    "os.chdir(p_wapor)\n",
    "print('From \"{f}\" to \"{t}\"'.format(f=p_from, t=p_wapor))\n",
    "for file in os.listdir(os.getcwd()):\n",
    "    print('  ', file)"
   ]
  },
  {
   "cell_type": "markdown",
   "metadata": {},
   "source": [
    "## 1. First import the module\n",
    "Init module with API input."
   ]
  },
  {
   "cell_type": "code",
   "execution_count": null,
   "metadata": {},
   "outputs": [],
   "source": [
    "# from wapor.WaporAPI import __wapor_API_class\n",
    "# API = __wapor_API_class()\n",
    "# API.Token=input('Insert WAPOR API Token: ')\n",
    "\n",
    "import wapor"
   ]
  },
  {
   "cell_type": "code",
   "execution_count": null,
   "metadata": {
    "scrolled": true
   },
   "outputs": [],
   "source": [
    "APIToken = wapor.API.token['API']\n",
    "AccToken = wapor.API.token['Access']\n",
    "RefToken = wapor.API.token['Refresh']\n",
    "\n",
    "print('\\nAPI     Token:', APIToken)\n",
    "print('\\nAccess  Token:', AccToken)\n",
    "print('\\nRefresh Token:', RefToken)"
   ]
  },
  {
   "cell_type": "markdown",
   "metadata": {},
   "source": [
    "Check Workspaces list"
   ]
  },
  {
   "cell_type": "code",
   "execution_count": null,
   "metadata": {},
   "outputs": [],
   "source": [
    "workspaces = wapor.API.getWorkspaces()\n",
    "\n",
    "workspaces"
   ]
  },
  {
   "cell_type": "markdown",
   "metadata": {},
   "source": [
    "## 2. Get Catalog"
   ]
  },
  {
   "cell_type": "code",
   "execution_count": null,
   "metadata": {},
   "outputs": [],
   "source": [
    "wapor.API.version = 2\n",
    "catalog = wapor.API.getCatalog()\n",
    "\n",
    "# APIVersion = 1\n",
    "# catalog = wapor.API.getCatalog(level=APIVersion, cubeInfo=True)\n",
    "\n",
    "catalog"
   ]
  },
  {
   "cell_type": "markdown",
   "metadata": {},
   "source": [
    "## 3. Get information of a cube"
   ]
  },
  {
   "cell_type": "code",
   "execution_count": null,
   "metadata": {},
   "outputs": [],
   "source": [
    "cube_code='L1_PCP_M'\n",
    "cube_info=wapor.API.getCubeInfo(cube_code)\n",
    "\n",
    "cube_info"
   ]
  },
  {
   "cell_type": "markdown",
   "metadata": {},
   "source": [
    "Some useful information about dataset can be found in cube_info"
   ]
  },
  {
   "cell_type": "code",
   "execution_count": null,
   "metadata": {},
   "outputs": [],
   "source": [
    "print('Description: {0} \\n\\nmultiplier: {1} \\n\\nunit: {2} \\n'.format(\n",
    "    cube_info['description'],\n",
    "    cube_info['measure']['multiplier'],\n",
    "    cube_info['measure']['unit']))"
   ]
  },
  {
   "cell_type": "markdown",
   "metadata": {},
   "source": [
    "## 4. Get list of locations"
   ]
  },
  {
   "cell_type": "code",
   "execution_count": null,
   "metadata": {},
   "outputs": [],
   "source": [
    "df_locations=wapor.API.getLocations()\n",
    "\n",
    "df_locations"
   ]
  },
  {
   "cell_type": "markdown",
   "metadata": {},
   "source": [
    "## 5. Get list of available data"
   ]
  },
  {
   "cell_type": "code",
   "execution_count": null,
   "metadata": {
    "scrolled": true
   },
   "outputs": [],
   "source": [
    "print(wapor.API.token)\n",
    "\n",
    "df_avail=wapor.API.getAvailData(cube_code,\n",
    "                                time_range='2009-01-01,2012-12-31')\n",
    "\n",
    "df_avail"
   ]
  },
  {
   "cell_type": "markdown",
   "metadata": {},
   "source": [
    "## 6. Get download url of a raster\n",
    "To get download url, wapor API Token is needed"
   ]
  },
  {
   "cell_type": "code",
   "execution_count": null,
   "metadata": {},
   "outputs": [],
   "source": [
    "# # Input API token\n",
    "# # or \n",
    "# # Init instance with API token, already\n",
    "# APIToken=input('Enter your API Token: ')\n",
    "# wapor.API.Token=APIToken\n",
    "\n",
    "wapor.API.getRasterUrl(cube_code,\n",
    "                       'L1_PCP_0901M',\n",
    "                       APIToken)"
   ]
  },
  {
   "cell_type": "markdown",
   "metadata": {},
   "source": [
    "## 7. Get download url of a cropped raster\n",
    "To request a cropped raster, raster_id and time_code of the raster is needed"
   ]
  },
  {
   "cell_type": "code",
   "execution_count": null,
   "metadata": {},
   "outputs": [],
   "source": [
    "bbox= [37.95883206252312, 7.89534, 43.32093, 12.3873979377346]\n",
    "rasterId='L1_PCP_0901M'\n",
    "dimension_value='[2009-01-01,2009-02-01)'\n",
    "wapor.API.getCropRasterURL(bbox,cube_code,\n",
    "                           dimension_value,\n",
    "                           rasterId,\n",
    "                           APIToken)"
   ]
  },
  {
   "cell_type": "markdown",
   "metadata": {},
   "source": [
    "## 8. Get Area time-series\n",
    "A shapefile can be used to define the Region of Interest"
   ]
  },
  {
   "cell_type": "markdown",
   "metadata": {},
   "source": [
    "### 8.1 Check Shapefile folder"
   ]
  },
  {
   "cell_type": "code",
   "execution_count": null,
   "metadata": {},
   "outputs": [],
   "source": [
    "Dir_Shapefile = os.path.join(p_tests, 'data', 'Shapefile')\n",
    "chk_files=glob.glob(os.path.join(Dir_Shapefile, '*.shp'))\n",
    "\n",
    "for file in chk_files:\n",
    "    print(file)"
   ]
  },
  {
   "cell_type": "markdown",
   "metadata": {},
   "source": [
    "### 8.2 Get shapefile area timeseries data"
   ]
  },
  {
   "cell_type": "code",
   "execution_count": null,
   "metadata": {
    "scrolled": true
   },
   "outputs": [],
   "source": [
    "shp_fh=os.path.join(Dir_Shapefile, \"Awash_HydroSHED.shp\")\n",
    "ts_area=wapor.API.getAreaTimeseries(shp_fh,\n",
    "                                    'L1_PCP_M',\n",
    "                                    APIToken,\n",
    "                                    time_range=\"2009-01-01,2018-12-31\")\n",
    "\n",
    "ts_area"
   ]
  },
  {
   "cell_type": "markdown",
   "metadata": {},
   "source": [
    "## 9. Get Point time-series"
   ]
  },
  {
   "cell_type": "code",
   "execution_count": null,
   "metadata": {
    "scrolled": true
   },
   "outputs": [],
   "source": [
    "Point=[37.95883206252312, 7.89534] #longitude and latitude\n",
    "ts_point=wapor.API.getPixelTimeseries(Point,\n",
    "                                      'L1_PCP_M',\n",
    "                                      time_range=\"2009-01-01,2018-12-31\")\n",
    "\n",
    "ts_point"
   ]
  },
  {
   "cell_type": "markdown",
   "metadata": {},
   "source": [
    "## 10. Bulk-downloading"
   ]
  },
  {
   "cell_type": "markdown",
   "metadata": {},
   "source": [
    "### 10.1 Check Download folder"
   ]
  },
  {
   "cell_type": "code",
   "execution_count": null,
   "metadata": {
    "scrolled": false
   },
   "outputs": [],
   "source": [
    "import requests\n",
    "Dir_Download = os.path.join(p_tests, 'data', 'Download')\n",
    "chk_files=glob.glob(os.path.join(Dir_Download, '*.tif'))\n",
    "\n",
    "for file in chk_files:\n",
    "    print(file)"
   ]
  },
  {
   "cell_type": "markdown",
   "metadata": {},
   "source": [
    "### 10.2 Start to download"
   ]
  },
  {
   "cell_type": "code",
   "execution_count": null,
   "metadata": {},
   "outputs": [],
   "source": [
    "for index,row in df_avail.iterrows():   \n",
    "    download_url=wapor.API.getCropRasterURL(bbox,\n",
    "                                            cube_code,\n",
    "                                            row['time_code'],\n",
    "                                            row['raster_id'],\n",
    "                                            wapor.API.Token,\n",
    "                                            print_job=False)\n",
    "    \n",
    "    download_file=os.path.join(Dir_Download,\n",
    "                               '{0}.tif'.format(row['raster_id']))\n",
    "    \n",
    "    resp=requests.get(download_url) \n",
    "    open(download_file, 'wb').write(resp.content)\n",
    "    print(index, download_file)"
   ]
  },
  {
   "cell_type": "markdown",
   "metadata": {},
   "source": [
    "### 10.3 Check downloaded files"
   ]
  },
  {
   "cell_type": "code",
   "execution_count": null,
   "metadata": {},
   "outputs": [],
   "source": [
    "chk_files=glob.glob(os.path.join(Dir_Download, '*.tif'))\n",
    "for file in chk_files:\n",
    "    print(file)"
   ]
  },
  {
   "cell_type": "code",
   "execution_count": null,
   "metadata": {},
   "outputs": [],
   "source": []
  }
 ],
 "metadata": {
  "kernelspec": {
   "display_name": "Python 3",
   "language": "python",
   "name": "python3"
  },
  "language_info": {
   "codemirror_mode": {
    "name": "ipython",
    "version": 3
   },
   "file_extension": ".py",
   "mimetype": "text/x-python",
   "name": "python",
   "nbconvert_exporter": "python",
   "pygments_lexer": "ipython3",
   "version": "3.6.8"
  }
 },
 "nbformat": 4,
 "nbformat_minor": 2
}
