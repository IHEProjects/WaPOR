{
 "cells": [
  {
   "cell_type": "markdown",
   "metadata": {},
   "source": [
    "# Examples of WaporAPI module functions"
   ]
  },
  {
   "cell_type": "markdown",
   "metadata": {},
   "source": [
    "## 0. Change working directory to \"wapor/src\""
   ]
  },
  {
   "cell_type": "code",
   "execution_count": 1,
   "metadata": {},
   "outputs": [
    {
     "name": "stdout",
     "output_type": "stream",
     "text": [
      "p_from\n",
      "p_root\n",
      "Working directory changed from \"/notebooks/notebooks\" to \"/notebooks/notebooks/../src\"\n"
     ]
    }
   ],
   "source": [
    "import os\n",
    "import glob\n",
    "\n",
    "p_from = os.getcwd()\n",
    "print('p_from')\n",
    "# for file in os.listdir(p_from):\n",
    "#     print('  ', file)\n",
    "\n",
    "p_root = os.path.join(os.getcwd(), '../')\n",
    "print('p_root')\n",
    "# for file in os.listdir(p_root):\n",
    "#     print('  ', file)\n",
    "\n",
    "p_wapor = os.path.join(p_root, 'src')\n",
    "p_tests = os.path.join(p_root, 'tests')\n",
    "\n",
    "os.chdir(p_wapor)\n",
    "print('Working directory changed from \"{f}\" to \"{t}\"'.format(f=p_from, t=p_wapor))\n",
    "# for file in os.listdir(os.getcwd()):\n",
    "#     print('  ', file)"
   ]
  },
  {
   "cell_type": "markdown",
   "metadata": {},
   "source": [
    "## 1. First import the module\n",
    "Init module with API input."
   ]
  },
  {
   "cell_type": "code",
   "execution_count": null,
   "metadata": {},
   "outputs": [],
   "source": [
    "# from wapor.WaporAPI import __wapor_API_class\n",
    "# API = __wapor_API_class()\n",
    "# API.Token=input('Insert WAPOR API Token: ')\n",
    "\n",
    "import wapor as WaPOR\n",
    "\n",
    "with open('wapor/token.yml', 'r') as fp:\n",
    "    token = fp.readline()\n",
    "WaPOR.API.setAPIToken(token)"
   ]
  },
  {
   "cell_type": "code",
   "execution_count": null,
   "metadata": {
    "scrolled": true
   },
   "outputs": [],
   "source": [
    "AccToken = WaPOR.API.token['Access']\n",
    "RefToken = WaPOR.API.token['Refresh']\n",
    "\n",
    "print('\\nAccess  Token:', AccToken)\n",
    "print('\\nRefresh Token:', RefToken)"
   ]
  },
  {
   "cell_type": "markdown",
   "metadata": {},
   "source": [
    "Check Workspaces list"
   ]
  },
  {
   "cell_type": "code",
   "execution_count": null,
   "metadata": {
    "scrolled": true
   },
   "outputs": [],
   "source": [
    "workspaces = WaPOR.API.getWorkspaces()\n",
    "\n",
    "for workspace in workspaces:\n",
    "    print(workspace['code'])"
   ]
  },
  {
   "cell_type": "markdown",
   "metadata": {},
   "source": [
    "## 2. Get Catalog"
   ]
  },
  {
   "cell_type": "code",
   "execution_count": null,
   "metadata": {
    "scrolled": true
   },
   "outputs": [],
   "source": [
    "version = 2\n",
    "level = 2\n",
    "catalog = WaPOR.API.getCatalog(version=version, level=level)\n",
    "\n",
    "catalog"
   ]
  },
  {
   "cell_type": "markdown",
   "metadata": {},
   "source": [
    "## 3. Get information of a cube"
   ]
  },
  {
   "cell_type": "code",
   "execution_count": null,
   "metadata": {
    "scrolled": true
   },
   "outputs": [],
   "source": [
    "cube_code='L1_PCP_M'\n",
    "cube_info=WaPOR.API.getCubeInfo(cube_code)\n",
    "\n",
    "cube_info"
   ]
  },
  {
   "cell_type": "markdown",
   "metadata": {},
   "source": [
    "Some useful information about dataset can be found in cube_info"
   ]
  },
  {
   "cell_type": "code",
   "execution_count": null,
   "metadata": {},
   "outputs": [],
   "source": [
    "print('Description: {0} \\n\\nmultiplier: {1} \\n\\nunit: {2} \\n'.format(\n",
    "    cube_info['description'],\n",
    "    cube_info['measure']['multiplier'],\n",
    "    cube_info['measure']['unit']))"
   ]
  },
  {
   "cell_type": "markdown",
   "metadata": {},
   "source": [
    "## 4. Get list of locations"
   ]
  },
  {
   "cell_type": "code",
   "execution_count": null,
   "metadata": {
    "scrolled": true
   },
   "outputs": [],
   "source": [
    "WaPOR_version = 2\n",
    "WaPOR_level = 2\n",
    "df_locations=WaPOR.API.getLocations(version=WaPOR_version, level=WaPOR_level)\n",
    "\n",
    "df_locations"
   ]
  },
  {
   "cell_type": "markdown",
   "metadata": {},
   "source": [
    "## 5. Get list of available data"
   ]
  },
  {
   "cell_type": "code",
   "execution_count": null,
   "metadata": {
    "scrolled": true
   },
   "outputs": [],
   "source": [
    "df_avail=WaPOR.API.getAvailData(cube_code,\n",
    "                                time_range='2009-01-01,2012-12-31')\n",
    "\n",
    "df_avail"
   ]
  },
  {
   "cell_type": "markdown",
   "metadata": {},
   "source": [
    "## 6. Get download url of a raster\n",
    "To get download url, wapor API Token is needed"
   ]
  },
  {
   "cell_type": "code",
   "execution_count": null,
   "metadata": {},
   "outputs": [],
   "source": [
    "print('WaPOR_{v}.L{l}'.format(v=WaPOR.API.version, l=WaPOR.API.level))\n",
    "\n",
    "WaPOR.API.getRasterUrl(cube_code,\n",
    "                       'L1_PCP_0901M')"
   ]
  },
  {
   "cell_type": "markdown",
   "metadata": {},
   "source": [
    "## 7. Get download url of a cropped raster\n",
    "To request a cropped raster, raster_id and time_code of the raster is needed"
   ]
  },
  {
   "cell_type": "code",
   "execution_count": null,
   "metadata": {
    "scrolled": true
   },
   "outputs": [],
   "source": [
    "print('WaPOR_{v}.L{l}'.format(v=WaPOR.API.version, l=WaPOR.API.level))\n",
    "\n",
    "bbox = [37.95883206252312, 7.89534, 43.32093, 12.3873979377346]\n",
    "time_code = '[2009-01-01,2009-02-01)'\n",
    "rasterId = 'L1_PCP_0901M'\n",
    "download_url=WaPOR.API.getCropRasterURL(bbox,\n",
    "                                        cube_code,\n",
    "                                        time_code,\n",
    "                                        rasterId)\n",
    "\n",
    "download_url"
   ]
  },
  {
   "cell_type": "markdown",
   "metadata": {},
   "source": [
    "## 8. Get Area time-series\n",
    "A shapefile can be used to define the Region of Interest"
   ]
  },
  {
   "cell_type": "markdown",
   "metadata": {},
   "source": [
    "### 8.1 Check Shapefile folder"
   ]
  },
  {
   "cell_type": "code",
   "execution_count": null,
   "metadata": {},
   "outputs": [],
   "source": [
    "Dir_Shapefile = os.path.join(p_tests, 'data', 'Shapefile')\n",
    "chk_files=glob.glob(os.path.join(Dir_Shapefile, '*.shp'))\n",
    "\n",
    "for file in chk_files:\n",
    "    print(file)"
   ]
  },
  {
   "cell_type": "markdown",
   "metadata": {},
   "source": [
    "### 8.2 Get shapefile area timeseries data"
   ]
  },
  {
   "cell_type": "code",
   "execution_count": null,
   "metadata": {
    "scrolled": true
   },
   "outputs": [],
   "source": [
    "print('WaPOR_{v}.L{l}'.format(v=WaPOR.API.version, l=WaPOR.API.level))\n",
    "\n",
    "shp_fh=os.path.join(Dir_Shapefile, \"Awash_HydroSHED.shp\")\n",
    "ts_area=WaPOR.API.getAreaTimeseries(shp_fh,\n",
    "                                    'L1_PCP_M',\n",
    "                                    time_range=\"2009-01-01,2018-12-31\")\n",
    "\n",
    "ts_area"
   ]
  },
  {
   "cell_type": "markdown",
   "metadata": {},
   "source": [
    "## 9. Get Point time-series"
   ]
  },
  {
   "cell_type": "code",
   "execution_count": null,
   "metadata": {
    "scrolled": true
   },
   "outputs": [],
   "source": [
    "print('WaPOR_{v}.L{l}'.format(v=WaPOR.API.version, l=WaPOR.API.level))\n",
    "\n",
    "Point=[37.95883206252312, 7.89534] #longitude and latitude\n",
    "ts_point=WaPOR.API.getPixelTimeseries(Point,\n",
    "                                      'L1_PCP_M',\n",
    "                                      time_range=\"2009-01-01,2018-12-31\")\n",
    "\n",
    "ts_point"
   ]
  },
  {
   "cell_type": "markdown",
   "metadata": {},
   "source": [
    "## 10. Bulk-downloading"
   ]
  },
  {
   "cell_type": "markdown",
   "metadata": {},
   "source": [
    "### 10.1 Check Download folder"
   ]
  },
  {
   "cell_type": "code",
   "execution_count": null,
   "metadata": {
    "scrolled": false
   },
   "outputs": [],
   "source": [
    "import requests\n",
    "Dir_Download = os.path.join(p_tests, 'data', 'Notebooks')\n",
    "\n",
    "if not os.path.exists(Dir_Download):\n",
    "    os.makedirs(Dir_Download)\n",
    "\n",
    "chk_files=glob.glob(os.path.join(Dir_Download, '*.tif'))\n",
    "for file in chk_files:\n",
    "    print(file)"
   ]
  },
  {
   "cell_type": "markdown",
   "metadata": {},
   "source": [
    "### 10.2 Start to download"
   ]
  },
  {
   "cell_type": "code",
   "execution_count": null,
   "metadata": {
    "scrolled": true
   },
   "outputs": [],
   "source": [
    "print('WaPOR_{v}.L{l}'.format(v=WaPOR.API.version, l=WaPOR.API.level))\n",
    "\n",
    "for index,row in df_avail.iterrows():   \n",
    "    download_url=WaPOR.API.getCropRasterURL(bbox,\n",
    "                                            cube_code,\n",
    "                                            row['time_code'],\n",
    "                                            row['raster_id'])\n",
    "    \n",
    "    download_file=os.path.join(Dir_Download,\n",
    "                               '{0}.tif'.format(row['raster_id']))\n",
    "    \n",
    "    resp=requests.get(download_url) \n",
    "    open(download_file, 'wb').write(resp.content)\n",
    "    print(index, download_file)"
   ]
  },
  {
   "cell_type": "markdown",
   "metadata": {},
   "source": [
    "### 10.3 Check downloaded files"
   ]
  },
  {
   "cell_type": "code",
   "execution_count": null,
   "metadata": {},
   "outputs": [],
   "source": [
    "chk_files=glob.glob(os.path.join(Dir_Download, '*.tif'))\n",
    "for file in chk_files:\n",
    "    print(file)"
   ]
  },
  {
   "cell_type": "code",
   "execution_count": null,
   "metadata": {},
   "outputs": [],
   "source": []
  }
 ],
 "metadata": {
  "kernelspec": {
   "display_name": "Python 3",
   "language": "python",
   "name": "python3"
  },
  "language_info": {
   "codemirror_mode": {
    "name": "ipython",
    "version": 3
   },
   "file_extension": ".py",
   "mimetype": "text/x-python",
   "name": "python",
   "nbconvert_exporter": "python",
   "pygments_lexer": "ipython3",
   "version": "3.6.8"
  }
 },
 "nbformat": 4,
 "nbformat_minor": 2
}
